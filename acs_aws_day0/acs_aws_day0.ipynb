{
 "cells": [
  {
   "cell_type": "markdown",
   "metadata": {
    "slideshow": {
     "slide_type": "slide"
    }
   },
   "source": [
    "# AWS Account Setup\n",
    "### Nathan Miles\n"
   ]
  },
  {
   "cell_type": "markdown",
   "metadata": {
    "slideshow": {
     "slide_type": "slide"
    }
   },
   "source": [
    "## Creating an Account\n",
    "- Navigate to the AWS Management Console\n",
    "    - <a href=\"https://aws.amazon.com/console/\">AWS Management Console</a>\n",
    "- Click \"Create Account\" in the upper right corner and following the steps.\n",
    "    - You will need to enter payment information\n",
    "    "
   ]
  },
  {
   "cell_type": "markdown",
   "metadata": {
    "slideshow": {
     "slide_type": "slide"
    }
   },
   "source": [
    "## Logging in \n",
    "- Navigate back to the console and click \"Sign in\"\n",
    "- The first login will need to be as \"Root user\"\n",
    "    - Use the email/password from the previous step\n",
    "    \n",
    "<center><img src=\"./login.png\" width=\"50%\" height=\"50%\"/></center>"
   ]
  },
  {
   "cell_type": "markdown",
   "metadata": {
    "slideshow": {
     "slide_type": "slide"
    }
   },
   "source": [
    "## Step 1: Creating an Administrator User and Group\n",
    "- The \"Root user\" cannot have permissions restricted, so if your account is hacked the hacker can do as they please and rack up any bill they want.\n",
    "- To minimize this, we use the Identity and Access Management (IAM) service.\n",
    "    - <a href=\"https://docs.aws.amazon.com/IAM/latest/UserGuide/getting-started_create-admin-group.html\"> Creating Your First IAM Admin User and Group</a>\n",
    "        - Make sure to download the `.csv` file in step 8) in that guide.\n",
    "        - The CSV vile will look something like this\n",
    "\n",
    "<style type=\"text/css\">\n",
    ".tg  {border-collapse:collapse;border-spacing:0;}\n",
    ".tg td{border-color:black;border-style:solid;border-width:1px;font-family:Arial, sans-serif;font-size:14px;\n",
    "  overflow:hidden;padding:10px 5px;word-break:normal;}\n",
    ".tg th{border-color:black;border-style:solid;border-width:1px;font-family:Arial, sans-serif;font-size:14px;\n",
    "  font-weight:normal;overflow:hidden;padding:10px 5px;word-break:normal;}\n",
    ".tg .tg-0lax{text-align:left;vertical-align:top}\n",
    "</style>\n",
    "<table class=\"tg\">\n",
    "<thead>\n",
    "  <tr>\n",
    "    <th class=\"tg-0lax\">User name</th>\n",
    "    <th class=\"tg-0lax\">Password</th>\n",
    "    <th class=\"tg-0lax\">Access key ID</th>\n",
    "    <th class=\"tg-0lax\">Secret access key</th>\n",
    "    <th class=\"tg-0lax\">Console login link</th>\n",
    "  </tr>\n",
    "</thead>\n",
    "<tbody>\n",
    "  <tr>\n",
    "    <td class=\"tg-0lax\">admin</td>\n",
    "    <td class=\"tg-0lax\"></td>\n",
    "    <td class=\"tg-0lax\"></td>\n",
    "    <td class=\"tg-0lax\"></td>\n",
    "    <td class=\"tg-0lax\">https://123496211877.signin.aws.amazon.com/console</td>\n",
    "  </tr>\n",
    "</tbody>\n",
    "</table>\n",
    "\n",
    "- The console login link is specific to your account and is used by IAM users to sign in to the AWS Management Console\n",
    "- Logout and then log back in using the IAM user credentials\n",
    "    - Click the login link in the credentials file, enter the login info for IAM user you just created\n"
   ]
  },
  {
   "cell_type": "markdown",
   "metadata": {
    "slideshow": {
     "slide_type": "slide"
    }
   },
   "source": [
    "## Step 2: Simplifying the login link\n",
    "- Navigate to the IAM console \n",
    "- Click \"Customize\" under than IAM users sign-in link\n",
    "<center><img src=\"./custom_login_link.png\" width=\"50%\" height=\"50%\"/></center>"
   ]
  },
  {
   "cell_type": "markdown",
   "metadata": {
    "slideshow": {
     "slide_type": "slide"
    }
   },
   "source": [
    "## Step 3: Create an IAM user with programmatic access\n",
    "- To use AWS services from the command line or software development kit (SDK), you need programmatic access\n",
    "- Navigate to the IAM console\n",
    "- Create an IAM User\n",
    "    - For Access Type, select both \"Programmatic access\" and \"AWS Management Console access\"\n",
    "- For permission, select \"Attach exisiting policies directly\"\n",
    "    - Search for the following policies and select them,\n",
    "        - AmazonS3FullAccess\n",
    "        - AmazonEC2FullAccess\n",
    "        - AWSLambdaFullAccess\n",
    "- You can add tags if you want, but feel free to leave them blank\n",
    "- Click \"Review\" and double check that the policies were correctly attached\n",
    "- Click \"Create user\"\n",
    "- Download the `.csv` containing the credentials.\n",
    "    - Note the file will now contain access key information and the \"Console login link\" should now show your customized login link\n"
   ]
  }
 ],
 "metadata": {
  "kernelspec": {
   "display_name": "Python 3",
   "language": "python",
   "name": "python3"
  },
  "language_info": {
   "codemirror_mode": {
    "name": "ipython",
    "version": 3
   },
   "file_extension": ".py",
   "mimetype": "text/x-python",
   "name": "python",
   "nbconvert_exporter": "python",
   "pygments_lexer": "ipython3",
   "version": "3.7.6"
  }
 },
 "nbformat": 4,
 "nbformat_minor": 4
}
