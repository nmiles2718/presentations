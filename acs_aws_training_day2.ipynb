{
 "cells": [
  {
   "cell_type": "markdown",
   "metadata": {
    "slideshow": {
     "slide_type": "slide"
    }
   },
   "source": [
    "# ACS AWS Training: Day 2\n",
    "### Nathan Miles\n",
    "06/04/2020"
   ]
  },
  {
   "cell_type": "markdown",
   "metadata": {
    "slideshow": {
     "slide_type": "slide"
    }
   },
   "source": [
    "## Outline\n",
    "- Review of last time\n",
    "\n",
    "- Some more initialization steps\n",
    "    - Configuring the credentials file\n",
    "        \n",
    "- How do we keep people from logging into our EC2 instance?\n",
    "     - SSH keys\n",
    "    - Security Groups \n",
    "- Launching an EC2 instance\n",
    "- Example\n",
    "    - Downloading HST data from the MAST public cache in S3 to EC2\n",
    "    \n",
    "    "
   ]
  },
  {
   "cell_type": "markdown",
   "metadata": {
    "slideshow": {
     "slide_type": "slide"
    }
   },
   "source": [
    "## Review From Day 1\n",
    "- AWS is a giant web API\n",
    "    - AWS Management Console: browser interface (web application built on the web API)\n",
    "    - AWS Command Line Interface (CLI): exactly what it sounds like\n",
    "    - Boto3: AWS Python Software Development Kit (SDK)\n",
    "- IAM: Identity and Access Mangement\n",
    "    - Authentication and authorization\n",
    "- S3: Simple Storage Service\n",
    "    - Storage and static-website hosting\n",
    "- EC2: Elastic Cloud Compute\n",
    "    - Servers in the cloud\n",
    "- Lambda\n",
    "    - On-demand compute resources without ever provisioning servers\n",
    "- All services on AWS is pay-as-you-go and pay-per-use"
   ]
  },
  {
   "cell_type": "markdown",
   "metadata": {
    "slideshow": {
     "slide_type": "slide"
    }
   },
   "source": [
    "## Programmatic AWS Access\n",
    "- In order to access AWS via AWS CLI or Boto3 you must create a credentials file\n",
    "    - These keys are used to authenticate requests submitted programmatically\n",
    "    \n",
    "- This even includes when you are working on EC2 instances\n",
    "\n",
    "- These keys should be provide the holder with the same level of access to your AWS account with having to know anything about your username or password\n",
    "\n",
    "- When generating keys for your personal account, please adhere to the best practices guide\n",
    "    - <a href=\"https://docs.aws.amazon.com/general/latest/gr/aws-access-keys-best-practices.html\">Best Practices for Managing AWS Access Keys </a>"
   ]
  },
  {
   "cell_type": "markdown",
   "metadata": {
    "slideshow": {
     "slide_type": "slide"
    }
   },
   "source": [
    "## Configuring the credentials file\n",
    "- Install the AWS CLI\n",
    "    - `pip install awscli`\n",
    "- After installing run the following:\n",
    "    - `aws configure`\n",
    "    - Copy and paste your Access Key ID and Secret Access Key when prompted"
   ]
  },
  {
   "cell_type": "markdown",
   "metadata": {
    "slideshow": {
     "slide_type": "slide"
    }
   },
   "source": [
    "## Keeping EC2 Instances Secure\n",
    "- The first step is to create an ssh key pair \n",
    "    - Amazon holds the public key, you hold the private key\n",
    "\n",
    "- Any time you create an instance in the cloud, the default is that anyone can ssh into\n",
    "    - They just need your private ssh key and the IP of your server\n",
    "        - Ok, the chances of hackers acquiring both is small but it's still worth mitigating!\n",
    "        \n",
    "- Security Groups\n",
    "    - Security groups allow you restrict access to your EC2 instance"
   ]
  },
  {
   "cell_type": "markdown",
   "metadata": {
    "slideshow": {
     "slide_type": "slide"
    }
   },
   "source": [
    "## Creating a key pair\n",
    "- Login to the <a href=\"https://aws.amazon.com/console/\">AWS Management Console</a>\n",
    "- Click the services tab in the upper left corner and search for EC2\n",
    "- On the left side there is a tool bar\n",
    "    - Click on \"Key Pairs\" underneath \"NETWORK & SECURITY\"\n",
    "- Create a new pair and download the private key"
   ]
  },
  {
   "cell_type": "markdown",
   "metadata": {
    "slideshow": {
     "slide_type": "subslide"
    }
   },
   "source": [
    "<img src=\"./ec2_console_keypair.png\" width=\"75%\" height=\"75%\"/>"
   ]
  },
  {
   "cell_type": "markdown",
   "metadata": {
    "slideshow": {
     "slide_type": "slide"
    }
   },
   "source": [
    "## Launching an EC2 Instance\n",
    "- Login to the <a href=\"https://aws.amazon.com/console/\">AWS Management Console</a>\n",
    "- Click the services tab in the upper left corner and search for EC2\n",
    "- On the homepage for the EC2 service, click the \"Launch Instance\" button\n",
    "    - Step 1) Selecting the Amazon Machine Image (AMI), i.e. the OS of your server\n",
    "        - Amazon Linux 2 AMI (HVM), SSD Volume Type\n",
    "    - Step 2) Selecting the Instance Type, i.e. the physical server infrastructure (CPUs, memory, etc..)\n",
    "        - t2.micro\n",
    "    - Step 3) Configuring the instance details\n",
    "        - Leave the defaults\n",
    "    - Step 4) Adding storage \n",
    "        - Increase the storage from 8 to 16 GiB\n",
    "    - Step 5) Adding tags\n",
    "        - Skip\n",
    "    - Step 6) Configuring the Security Group\n",
    "        - Create a new security group\n",
    "        - Change the name and descriptiong to something useful\n",
    "        - Update the \"Source\" to be \"My IP\" \n",
    "    - Step Launch\n",
    "        - Select the key pair you created in the previous step\n",
    "\n"
   ]
  },
  {
   "cell_type": "markdown",
   "metadata": {
    "slideshow": {
     "slide_type": "slide"
    }
   },
   "source": [
    "## Connecting to your instance\n",
    "- After launching your instance, navigate to your running instances in the toolbar\n",
    "    - Click on \"Instances\" undernearth \"INSTANCES\"\n",
    "- Select your running instance and then click \"connect\"\n",
    "    - Copy the example ssh command, it should look like this:\n",
    "    \n",
    "``` console\n",
    "ssh -i \"keyname\" ec2-user@ec2_public_dns\n",
    "```\n",
    "\n",
    "- The keyname should be the name of the key you downloaded\n",
    "- `ec2-user` should always be username\n",
    "    - If you ever see \"root\" that means you are using your root-access account, which is not recommended \n",
    "- `ec2_public_dns` \n",
    "    - Each instance is assigned a public DNS hostname that resolves to its a unique IP address\n",
    "\n",
    "    "
   ]
  },
  {
   "cell_type": "markdown",
   "metadata": {
    "slideshow": {
     "slide_type": "slide"
    }
   },
   "source": [
    "## Setting up Miniconda3 \n",
    "- Download the latest version of Miniconda3 for Linux\n",
    "```shell\n",
    "curl -OL https://repo.continuum.io/miniconda/Miniconda3-latest-Linux-x86_64.sh\n",
    "```\n",
    "    \n",
    "- Execute the installation script\n",
    "```shell\n",
    "bash ./Miniconda3-latest-Linux-x86_64.sh\n",
    "```"
   ]
  },
  {
   "cell_type": "markdown",
   "metadata": {
    "slideshow": {
     "slide_type": "slide"
    }
   },
   "source": [
    "## Copying over AWS access keys\n",
    "- Remember that in order to access any AWS programmatically, we need to have our credentials configured properly\n",
    "- In this case, we need to copy our credentials file to the EC2 instance\n",
    "    - This can be done using either `rsync` or `scp`\n",
    "- The command below will copy the entire `.aws` directory from your computer to your EC2 instance\n",
    "\n",
    "```console\n",
    "scp -ri \"/path/to/aws_ssh_key.pem\" ~/.aws/ ec2-user@$ec2_public_dns:~\n",
    "```\n",
    "\n",
    "- Update the command with the path to your ssh key and the DNS of your EC2 instance"
   ]
  },
  {
   "cell_type": "markdown",
   "metadata": {
    "slideshow": {
     "slide_type": "slide"
    }
   },
   "source": [
    "## Install `astroquery` and Download data\n",
    "- Install `astroquery` via `pip`\n",
    "    - `pip install astroquery`\n",
    "\n",
    "- Downloading data\n",
    "    - Download by FLC and FLT images for HST Proposal ID, 14507, ACS/WFC External CTE Monitor\n",
    "    \n",
    "    \n",
    "```python\n",
    "from astroquery.mast import Observations\n",
    "# Submit the query to MAST\n",
    "obstable = Observations.query_criteria(\n",
    "    proposal_id=14507, \n",
    "    obs_collection='HST'\n",
    ")\n",
    "# Get a table of all the products returned by the query\n",
    "products = Observations.get_product_list(obstable)\n",
    "# Filter those products to get the FLT and FLC images\n",
    "filtered_products = Observations.filter_products(\n",
    "    products,\n",
    "    mrp_only=False, \n",
    "    productSubGroupDescription=['FLT', 'FLC']\n",
    ")\n",
    "# Download the filtered products\n",
    "Observations.download_products(\n",
    "    filtered_products['obsID'].tolist(), \n",
    "    mrp_only=False, \n",
    "    productSubGroupDescription=['FLT','FLC']\n",
    ")\n",
    "```"
   ]
  },
  {
   "cell_type": "markdown",
   "metadata": {
    "slideshow": {
     "slide_type": "slide"
    }
   },
   "source": [
    "## Now we enable AWS downloads\n",
    "- By default, `astroquery` will download from MAST\n",
    "- To enable downloads from `S3` we use the `enable_cloud_dataset()` method of the `Observations` class\n",
    "    - In the example below, I specify a particular profile within my AWS credentials file\n",
    "\n",
    "```python\n",
    "from astroquery.mast import Observations\n",
    "\n",
    "Observations.enable_cloud_dataset('AWS', profile='ndmiles_admin')\n",
    "\n",
    "# Submit the query to MAST\n",
    "obstable = Observations.query_criteria(\n",
    "    proposal_id=14507, \n",
    "    obs_collection='HST'\n",
    ")\n",
    "# Get a table of all the products returned by the query\n",
    "products = Observations.get_product_list(obstable)\n",
    "# Filter those products to get the FLT and FLC images\n",
    "filtered_products = Observations.filter_products(\n",
    "    products,\n",
    "    mrp_only=False, \n",
    "    productSubGroupDescription=['FLT', 'FLC']\n",
    ")\n",
    "# Download the filtered products\n",
    "Observations.download_products(\n",
    "    filtered_products['obsID'].tolist(), \n",
    "    mrp_only=False, \n",
    "    productSubGroupDescription=['FLT','FLC']\n",
    ")\n",
    "```"
   ]
  }
 ],
 "metadata": {
  "kernelspec": {
   "display_name": "Python 3",
   "language": "python",
   "name": "python3"
  },
  "language_info": {
   "codemirror_mode": {
    "name": "ipython",
    "version": 3
   },
   "file_extension": ".py",
   "mimetype": "text/x-python",
   "name": "python",
   "nbconvert_exporter": "python",
   "pygments_lexer": "ipython3",
   "version": "3.7.6"
  }
 },
 "nbformat": 4,
 "nbformat_minor": 4
}
