{
 "cells": [
  {
   "cell_type": "markdown",
   "metadata": {
    "slideshow": {
     "slide_type": "slide"
    }
   },
   "source": [
    "# ACS AWS Training: Day 5\n",
    "## Nathan Miles\n",
    "06/15/2020"
   ]
  },
  {
   "cell_type": "markdown",
   "metadata": {
    "slideshow": {
     "slide_type": "slide"
    }
   },
   "source": [
    "## Outline\n",
    "- Review of last time\n",
    "- Docker 101\n",
    "    - Containers\n",
    "- Example\n",
    "    - Create a lambda funciton that will,\n",
    "        - run SExtractor on an image to identify all sources,\n",
    "        - generate a catalog of photometry for all sources found in the image\n",
    "    - Containerize the Lambda function and its dependencies using `EC2`\n",
    "        - `astropy`\n",
    "        - `matplotlib`\n",
    "        - `numpy`\n",
    "        - `scipy`\n",
    "        - `sep` (SExtractor in python)\n",
    "    - Uploading the container to S3\n",
    "    - Building a Lambda function using the container\n",
    "    - Invoking the lambda function with `boto3`\n"
   ]
  },
  {
   "cell_type": "markdown",
   "metadata": {
    "slideshow": {
     "slide_type": "slide"
    }
   },
   "source": [
    "## Docker\n",
    "- Platform for containerizing applications\n",
    "- Containers are standardized units of software\n",
    "    - Packages up code and all its dependencies so it runs quickly and reliably in a variety computing environments\n",
    "        - code, runtime, system tools, system libraries and settings\n",
    "    - OS-level virtualization\n",
    "\n",
    "<center><figure><img src=\"visual_representation_of_a_container.png\" width=\"50%\" height=\"50%\" /><figcaption>Credit: <a href=\"https://www.docker.com/resources/what-container\">What is a Container?</a></figcaption></figure></center>"
   ]
  },
  {
   "cell_type": "markdown",
   "metadata": {
    "slideshow": {
     "slide_type": "slide"
    }
   },
   "source": [
    "## Example: Overview\n",
    "- To circumvent any issues associated with installing/configuring Docker on your computer, we will build our container on a small EC2 Instance.\n",
    "- An outline of the process is as follows,\n",
    "    - Build the container on EC2\n",
    "    - Upload the container to S3\n",
    "    - Create a Lambda function and specify the container in S3 as the source code\n",
    "    - Create a test event for the Lambda function\n",
    "\n"
   ]
  },
  {
   "cell_type": "markdown",
   "metadata": {
    "slideshow": {
     "slide_type": "slide"
    }
   },
   "source": [
    "## Example: Download the Software\n",
    "#### Place the files in the following directory: `~/acs_aws_day5_code`\n",
    "\n",
    "- <a href=\"./day5_code/build.sh\">build.sh</a>\n",
    "    - Build script used by docker to create our container\n",
    "- <a href=\"./day5_code/requirements.txt\">requirements.txt</a>\n",
    "    - `pip` requirements file specifying the packages to install\n",
    "- <a href=\"./day5_code/extract_photometry.py\">extract_photometry.py</a>\n",
    "    - Python class for performing aperture photometry using Python wrapped <a href=\"https://sep.readthedocs.io/en/v1.0.x/\">Source Extractor</a>\n",
    "- <a href=\"./day5_code/datavis.py\">datavis.py</a>\n",
    "    - Convenience class for handling all data visualization \n",
    "- <a href=\"./day5_code/aws_source_extraction.py\">aws_source_extraction.py</a>\n",
    "    - Python module for running source extraction on AWS\n",
    "    - This is the file that contains the `handler` for the Lambda function\n",
    "- <a href=\"./day5_code/launch_instance.py\">launch_instance.py</a>\n",
    "    - Launch an EC2 instance using a specified launch template and key pair\n",
    "\n",
    "\n",
    "\n"
   ]
  },
  {
   "cell_type": "markdown",
   "metadata": {
    "slideshow": {
     "slide_type": "slide"
    }
   },
   "source": [
    "## Containerizing the Lambda Function\n",
    "- Launch an EC2 template to use for creating the Docker container\n",
    "\n",
    "``` console\n",
    "python launch_instance.py -template_id <TEMPLATE_ID> -keyname <KEYNAME>\n",
    "```\n",
    "\n",
    "- Copy over the `acs_aws_day5_code` directory to your EC2 instance\n",
    "\n",
    "```console\n",
    "scp -ri \"path/to/key.pem\" ~/acs_aws_day5_code ec2-user@public_dns\n",
    "```\n",
    "\n",
    "- Install and configure docker,\n",
    "    - install: `sudo yum install docker`\n",
    "    - start docker: `sudo service docker start`\n",
    "    - set permissions: `sudo usermod -a -G docker ec2-user`\n"
   ]
  },
  {
   "cell_type": "markdown",
   "metadata": {
    "slideshow": {
     "slide_type": "slide"
    }
   },
   "source": [
    "## Containerizing the Lambda Function Continued\n",
    "- Log out of the EC2 instance\n",
    "- Log back in and execute the command: `docker info`\n",
    "    - If no output is shown, your docker installation failed\n",
    "- Change directory to `~/acs_aws_day5_code`\n",
    "- Execute the following commands to build your docker image\n",
    "    - `docker pull amazonlinux:2018.03`\n",
    "    - `docker run -v $(pwd):/outputs -it amazonlinux:2018.03 /bin/bash /outputs/build.sh`\n",
    "        - The final container is `venv.zip`\n",
    "        "
   ]
  },
  {
   "cell_type": "code",
   "execution_count": null,
   "metadata": {},
   "outputs": [],
   "source": []
  }
 ],
 "metadata": {
  "kernelspec": {
   "display_name": "Python 3",
   "language": "python",
   "name": "python3"
  },
  "language_info": {
   "codemirror_mode": {
    "name": "ipython",
    "version": 3
   },
   "file_extension": ".py",
   "mimetype": "text/x-python",
   "name": "python",
   "nbconvert_exporter": "python",
   "pygments_lexer": "ipython3",
   "version": "3.6.10"
  }
 },
 "nbformat": 4,
 "nbformat_minor": 4
}
