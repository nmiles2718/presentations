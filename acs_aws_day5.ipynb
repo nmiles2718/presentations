{
 "cells": [
  {
   "cell_type": "markdown",
   "metadata": {
    "slideshow": {
     "slide_type": "slide"
    }
   },
   "source": [
    "# ACS AWS Training: Day 5\n",
    "## Nathan Miles\n",
    "06/15/2020"
   ]
  },
  {
   "cell_type": "markdown",
   "metadata": {
    "slideshow": {
     "slide_type": "slide"
    }
   },
   "source": [
    "## Outline\n",
    "- Review of last time\n",
    "- Docker 101\n",
    "    - Containers\n",
    "- Example\n",
    "    - Create a lambda funciton that will,\n",
    "        - run SExtractor on an image to identify all sources,\n",
    "        - generate a catalog of photometry for all sources found in the image\n",
    "    - Containerize the Lambda function and its dependencies\n",
    "        - `astropy`\n",
    "        - `matplotlib`\n",
    "        - `numpy`\n",
    "        - `scipy`\n",
    "        - `sep` (SExtractor in python)\n",
    "    - Uploading the container to S3\n",
    "    - Building a Lambda function using the container\n",
    "    - Invoking the lambda function with `boto3`\n"
   ]
  },
  {
   "cell_type": "markdown",
   "metadata": {
    "slideshow": {
     "slide_type": "slide"
    }
   },
   "source": [
    "## Docker\n",
    "- Platform for containerizing applications\n",
    "- Containers are standardized units of software\n",
    "    - Packages up code and all its dependencies so it runs quickly and reliably in a variety computing environments\n",
    "        - code, runtime, system tools, system libraries and settings\n",
    "    - OS-level virtualization\n",
    "\n",
    "<center><figure><img src=\"visual_representation_of_a_container.png\" width=\"50%\" height=\"50%\" /><figcaption>Credit: <a href=\"https://www.docker.com/resources/what-container\">What is a Container?</a></figcaption></figure></center>"
   ]
  },
  {
   "cell_type": "markdown",
   "metadata": {
    "slideshow": {
     "slide_type": "slide"
    }
   },
   "source": [
    "## Example: Create the Lambda Function\n",
    "- Click to download the following files\n",
    "    - <a href=\"./day5_code/build.sh\">build.sh</a>\n"
   ]
  }
 ],
 "metadata": {
  "kernelspec": {
   "display_name": "Python 3",
   "language": "python",
   "name": "python3"
  },
  "language_info": {
   "codemirror_mode": {
    "name": "ipython",
    "version": 3
   },
   "file_extension": ".py",
   "mimetype": "text/x-python",
   "name": "python",
   "nbconvert_exporter": "python",
   "pygments_lexer": "ipython3",
   "version": "3.6.10"
  }
 },
 "nbformat": 4,
 "nbformat_minor": 4
}
