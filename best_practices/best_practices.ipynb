{
 "cells": [
  {
   "cell_type": "markdown",
   "id": "billion-alias",
   "metadata": {},
   "source": [
    "# Some Best Practices for Python Code\n",
    "\n",
    "Most of what is covered here is defined in <a href=\"https://www.python.org/dev/peps/pep-0008/\">pep8</a>, which is the official style guide for writing code in Python.\n",
    "\n",
    "The pep8 list is a long one and so I will cover some of the most important ones for ensuring readability of your code. \n",
    "\n",
    "At the end of this notebook, I'll just list some tips and tricks that I've found to be very handy over the years."
   ]
  },
  {
   "cell_type": "markdown",
   "id": "premium-island",
   "metadata": {},
   "source": [
    "## Line Lengths\n",
    "\n",
    "When writing Python code, the ideal maximum line length is 79 characters. This is not a hard limit in the sense your code wont run if it contains a line longer than 79 characters, it's a hard _suggestion_. The motivation behind the 79 characters is to accommodate the scenario when you have multiple files open on the same screen. \n",
    "\n",
    "<img src=\"example_line_length.png\" alt=\"side by side python code\">"
   ]
  },
  {
   "cell_type": "markdown",
   "id": "separate-roommate",
   "metadata": {},
   "source": [
    "## Indentation\n",
    "\n",
    "Suppose you have a function that requires a large number of arguments and looks something like this,\n",
    "\n",
    "```python\n",
    "    def my_func(arg1, arg2, arg3, arg4, arg5, arg6, arg7, arg8=10, arg9='hello', arg10=[1,2], arg11=None):\n",
    "        .\n",
    "        .\n",
    "        .\n",
    "        return result\n",
    "    \n",
    "```\n",
    "\n",
    "While this might be readable on a larger monitor, it's very difficult to read on a laptop screen especially if the editor you are using is not full screen. A better way to write this code would be to break up the single line of arguments into a single line for each argument,\n",
    "\n",
    "```python\n",
    "    def my_func(\n",
    "        arg1,\n",
    "        arg2, \n",
    "        arg3,\n",
    "        arg4,\n",
    "        arg5,\n",
    "        arg6,\n",
    "        arg7,\n",
    "        arg8=10,\n",
    "        arg9='hello', \n",
    "        arg10=[1,2],\n",
    "        arg11=None\n",
    "    ):\n",
    "        .\n",
    "        .\n",
    "        .\n",
    "        return result\n",
    "    \n",
    "```"
   ]
  },
  {
   "cell_type": "markdown",
   "id": "brutal-jackson",
   "metadata": {},
   "source": [
    "This doesnt just apply to functions with a long list of arguments either, it applies to any Python object. For example, consider the Python dictionaries given below,\n",
    "\n",
    "```python\n",
    "\n",
    "    data1 = {'date': [date1, date2, date3], 'param1':[val1, val2, val3], 'param2':[val1, val2, val3]}\n",
    "    \n",
    "    data2 = {\n",
    "        'date': [date1, date2, date3], \n",
    "        'param1':[val1, val2, val3], \n",
    "        'param2':[val1, val2, val3]\n",
    "    }\n",
    "```\n",
    "\n",
    "Which of those is more readable? `data2` of course!"
   ]
  },
  {
   "cell_type": "markdown",
   "id": "comic-entrepreneur",
   "metadata": {},
   "source": [
    "## Naming Conventions\n",
    "\n",
    "Having a consist approach to naming variables, functions, classes, and the like is essential for readability of shared code. Variable names should be explicit and aim to encapsulate something about the information they store. For example, please, please, please, at all costs, avoid doing something like this, \n",
    "```python\n",
    "fruit = 'Jacksonville, Florida'\n",
    "```\n",
    "Additionally, you should try to avoid single character variable names for important variables, unless they are used to track iterations in a loop. \n",
    "\n",
    "The official conventions defined in the `pep8` standard are,\n",
    "- Variables\n",
    "  - lowercase or lower_case_with_underscores, e.g. `myvar` or `my_var`\n",
    "- Functions\n",
    "  - lowercase or lower_case_with_underscores, e.g. `myfunc()` or `my_func()`\n",
    "- Classes \n",
    "  - CapitalizedWords, e.g. `MyClass()`\n",
    "- Global Variables \n",
    "  - The offical pep8 says the same as functions\n",
    "  - I disagree here and find that it is much nicer use the following scheme,\n",
    "    - `_GLOBAL_VARIABLE`\n",
    "  - It makes it much easier to immediately recognize when a variable you are looking it is defined in the local namespace of the function or the global namespace of the script. "
   ]
  },
  {
   "cell_type": "markdown",
   "id": "focused-standing",
   "metadata": {},
   "source": [
    "## Catching Exceptions\n",
    "\n",
    "When using a `try/except`, please try to mention a specific exception as opposted to just a general exception. For example,\n",
    "\n",
    "```python\n",
    "b = '1'\n",
    "try:\n",
    "    a = b + 2\n",
    "except TypeError as e:\n",
    "    print(e)\n",
    "else:\n",
    "    print(f'The value of a: {a}')\n",
    "```\n",
    "Here we see that b is a `str` and since we can't add a `str` to an `int`, Python will raise a `TypeError` exception. This `try/except` block is especially handy for dealing with instances when a variable can be either be `None` or only one other type. "
   ]
  },
  {
   "cell_type": "markdown",
   "id": "colonial-fifty",
   "metadata": {},
   "source": [
    "## Some Tips and Tricks"
   ]
  },
  {
   "cell_type": "markdown",
   "id": "latter-advisory",
   "metadata": {},
   "source": [
    "#### `defaultdict`\n",
    "Probably one of my most used objects in Python is `defaultdict` which is contained in the `collections` module (this module is native to Python, no external package required). This object allows you to create a Python `dict` where the default value associated with each new key can be defined. The default value can be anything you like, a string, a list, an integer. I've found the most useful to be a list."
   ]
  },
  {
   "cell_type": "markdown",
   "id": "political-correspondence",
   "metadata": {},
   "source": [
    "Consider the following scenario:\n",
    "- You have some list of data files. \n",
    "- Each data file has some parameters stored in it.\n",
    "- You want to loop through each data file and retrieve the data for each parameter.\n",
    "- Once the process is done you want a dictonary containing key/value pairs for each of the parameters stored in each of the files.\n",
    "    - Each key in the `dict` object corresponds to a list of all the values for the given parameter in each of the files.\n",
    "    \n",
    "Withot using the `defaultdict` object, your code would look something like this:\n",
    "\n",
    "```python\n",
    "flist = [filename1, filename2, ..., filenameN]\n",
    "data = {\n",
    "    'param1': [],\n",
    "    'param2': [],\n",
    "    'param3': [],\n",
    "    'param4': [],\n",
    "}\n",
    "for fname in flist:\n",
    "    parameters = retrieve_data(fname)\n",
    "    for i, param in enumerate(parameters):\n",
    "        data[f'param{i}'].append(param)\n",
    "```\n",
    "This is fine when the number of parameters is small, but you can immediately see that it won't scale very well and will ultimately require some copy/pasting. \n",
    "\n",
    "We can accomplish the same task using a `defaultdict` as follows,\n",
    "\n",
    "```python\n",
    "flist = [filename1, filename2, ..., filenameN]\n",
    "data = defaultdict(list)\n",
    "for fname in flist:\n",
    "    parameters = retrieve_data(fname)\n",
    "    for i, param in enumerate(parameters):\n",
    "        data[f'param{i}'].append(param)\n",
    "```\n",
    "\n",
    "Nice, right? Each time we create a new key/value pair in the `defaultdict` object, the value is initialized as an empty `list`!"
   ]
  },
  {
   "cell_type": "markdown",
   "id": "cross-acrylic",
   "metadata": {},
   "source": [
    "### Keyword arguments\n",
    "\n",
    "When defining a function in Python, the arguments are either specified by their position or a keyword. \n",
    "- A positional argument just means that the value of the parameter depends on where it is in the list of arguments passed to the function.\n",
    "\n",
    "- A keyword argument just means that the value of the parameter depends on the value of the keyword passed to the function. \n",
    "\n",
    "\n",
    "An example of a function with positional and keyword arguments is given below.\n",
    "```python\n",
    "\n",
    "def my_func(\n",
    "    positional1, \n",
    "    positional2,\n",
    "    keyword1='hello',\n",
    "    keyword2=None\n",
    "):\n",
    "    ...\n",
    "```\n",
    "\n",
    "Keyword arguments are really useful for simplifying a complex function call because you can do things like this,\n",
    "\n",
    "```python\n",
    "\n",
    "keywords = {\n",
    "    'keyword1': 'wooohooooo',\n",
    "    'keyword2': 3.14159\n",
    "}\n",
    "\n",
    "my_func(1, 2, **keywords)\n",
    "```"
   ]
  },
  {
   "cell_type": "markdown",
   "id": "engaging-license",
   "metadata": {},
   "source": [
    "# The `logging` module\n",
    "\n",
    "The Python `logging` module provides a convient interface for logging any errors or warnings that occur during runtime. This makes it extremely useful for monitoring the progress of a long processing pipeline. One of the key features of `logging` is the ability to define a format for the output. In the snippet below, I set up the logger to include information about the module, function, and line number where the logging statement is called.\n",
    "\n",
    "\n",
    "```python\n",
    "import logging\n",
    "\n",
    "logging.basicConfig(format='%(levelname)-4s '\n",
    "                           '[%(module)s:%(funcName)s:%(lineno)d]'\n",
    "                           ' %(message)s')\n",
    "LOG = logging.getLogger()\n",
    "LOG.setLevel(logging.INFO)\n",
    "\n",
    "LOG.info('info!')\n",
    "LOG.warning('warning!')\n",
    "LOG.error('error!)\n",
    ".\n",
    ".\n",
    ".\n",
    "```\n",
    "\n",
    "A full example can be downloaded here: <a href=\"./logging_example.py\">logging_example.py</a>. Example output from this demo script is shown below."
   ]
  },
  {
   "cell_type": "code",
   "execution_count": 1,
   "id": "protective-devon",
   "metadata": {},
   "outputs": [
    {
     "name": "stderr",
     "output_type": "stream",
     "text": [
      "INFO [logging_example:<module>:9] info!\n",
      "WARNING [logging_example:<module>:10] warning!\n",
      "ERROR [logging_example:<module>:11] error!\n",
      "ERROR [logging_example:cool_function:22] Unknown format code 'f' for object of type 'str'\n",
      "INFO [logging_example:cool_function:29] \n",
      "input1: 3.15989\n",
      "input2: asdf\n",
      "----------------------------------------------------------------------\n",
      "ERROR [logging_example:cool_function:34] can only concatenate str (not \"int\") to str\n"
     ]
    }
   ],
   "source": [
    "import logging_example\n",
    "\n",
    "inputs = {'input1':'3.15989', 'input2':'asdf'}\n",
    "logging_example.cool_function(**inputs)"
   ]
  }
 ],
 "metadata": {
  "kernelspec": {
   "display_name": "Python 3",
   "language": "python",
   "name": "python3"
  },
  "language_info": {
   "codemirror_mode": {
    "name": "ipython",
    "version": 3
   },
   "file_extension": ".py",
   "mimetype": "text/x-python",
   "name": "python",
   "nbconvert_exporter": "python",
   "pygments_lexer": "ipython3",
   "version": "3.7.9"
  }
 },
 "nbformat": 4,
 "nbformat_minor": 5
}
