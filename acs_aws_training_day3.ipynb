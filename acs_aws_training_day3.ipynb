{
 "cells": [
  {
   "cell_type": "markdown",
   "metadata": {
    "slideshow": {
     "slide_type": "slide"
    }
   },
   "source": [
    "# ACS AWS Training: Day 3\n",
    "### Nathan Miles\n",
    "06/08/2020"
   ]
  },
  {
   "cell_type": "markdown",
   "metadata": {
    "slideshow": {
     "slide_type": "slide"
    }
   },
   "source": [
    "## Outline\n",
    "- Review of last time\n",
    "\n",
    "- EC2 Launch Template\n",
    "\n",
    "- AWS setup scripts\n",
    "\n",
    "\n",
    "- Example\n",
    "    - Download HST data from the MAST public cache in S3 to EC2\n",
    "    - Compute aperture photometry of all sources identified in each image using a 3 pixel aperture\n",
    "    - For each image,\n",
    "        - Save a catalog of the sources found for each chip\n",
    "        - Save a plot showing all sources \n",
    "    - Upload the results from the analysis to S3\n",
    "    - Downloading the results from S3 to your computer\n",
    "\n",
    "- EC2 Amazon Machine Image (AMI)"
   ]
  },
  {
   "cell_type": "markdown",
   "metadata": {
    "slideshow": {
     "slide_type": "slide"
    }
   },
   "source": [
    "## Day 2 Review\n",
    "- Programmatic AWS Access\n",
    "    - Requires use the of an access key id and its corresponding secret access key\n",
    "        - e.g. Downloading data from S3 to an EC2 instance or your local machine\n",
    "    - The access key id and secrect access key are stored in the credentials file\n",
    "        - `~/.aws/credentials`\n",
    "- The credentials file is easiest to configure using the AWS CLI (<a href=\"https://nmiles2718.github.io/presentations/acs_aws_day2/day2.html#/4\">Day 2, Slide 4</a>)\n",
    "- EC2 instances are secured with an ssh key-pair and via Security Groups\n",
    "- Launching an EC2 instance (<a href=\"https://nmiles2718.github.io/presentations/acs_aws_day2/day2.html#/7\">Day2, Slide 7</a>)\n",
    "- Connecting to an EC2 instance (<a href=\"https://nmiles2718.github.io/presentations/acs_aws_day2/day2.html#/8\">Day2, Slide 8</a>)"
   ]
  },
  {
   "cell_type": "markdown",
   "metadata": {
    "slideshow": {
     "slide_type": "slide"
    }
   },
   "source": [
    "## EC2 Launch Template\n",
    "- Designed to reduce the overhead in repeatedly using the same EC2 instance configuration\n",
    "- For the typical use case in astronomy, the following parameters are the most important,\n",
    "    - AMI\n",
    "    - Instance type\n",
    "    - Storage\n",
    "    - ssh key pair\n",
    "    - Security group\n",
    "- All the parameters you can specify when launching an EC2 instance from the AWS Management Console can be configured in a launch template"
   ]
  },
  {
   "cell_type": "markdown",
   "metadata": {
    "slideshow": {
     "slide_type": "slide"
    }
   },
   "source": [
    "## Creating an EC2 Launch Template\n",
    "- Login to the AWS management console\n",
    "- Navigate to the EC2 dashboard\n",
    "- In the toolbar on the left,\n",
    "    - Instances > Launch Templates \n",
    "- Click \"Create Launch Template\"\n",
    "    - Give your template a name and description\n",
    "    - AMI: `aws_acs_day3`\n",
    "        - Custom Linux AMI with Minicond3 and additional software pre-installed\n",
    "    - Instance type: `c5.xlarge`\n",
    "        - 4 cores, 8 GiB RAM, $0.17/hour\n",
    "    - Key pair: Select your key pair form the dropdown menu\n",
    "    - Security groups: Select your security group"
   ]
  },
  {
   "cell_type": "markdown",
   "metadata": {
    "slideshow": {
     "slide_type": "slide"
    }
   },
   "source": [
    "## Launching an EC2 Instance via Launch Templates\n",
    "- Navigate to the dashboard for Launch Templates\n",
    "- Select the launch template you just created\n",
    "    - Copy the Launch Template ID\n",
    "        - e.g., lt-01e33604ade7b0c57\n",
    "- Copy and paste the following code in an `ipython` session on your local machine\n",
    "    - Update the `template_id` with the Launch Template ID for the template you just created\n"
   ]
  },
  {
   "cell_type": "markdown",
   "metadata": {
    "slideshow": {
     "slide_type": "subslide"
    }
   },
   "source": [
    "```python\n",
    "import boto3\n",
    "\n",
    "template_id='YOUR_TEMPLATE_ID'\n",
    "s = boto3.Session(region_name='us-east-1', profile_name=None)\n",
    "ec2 = s.resource('ec2')\n",
    "LaunchTemplate = {'LaunchTemplateId': template_id}\n",
    "instances = ec2.create_instances(LaunchTemplate=LaunchTemplate,\n",
    "                     MaxCount=1,\n",
    "                     MinCount=1)\n",
    "\n",
    "instance = instances[0]\n",
    "\n",
    "print('Launched EC2 instance {}'.format(instance.id))\n",
    "instance.wait_until_running()\n",
    "instance.load()\n",
    "print(f\"EC2 DNS: {instance.public_dns_name}\")\n",
    "\n",
    "```"
   ]
  },
  {
   "cell_type": "markdown",
   "metadata": {
    "slideshow": {
     "slide_type": "slide"
    }
   },
   "source": [
    "## AWS EC2 Setup Scripts: `setup_ec2.sh`\n",
    "- Use `scp` to securely copy over configuration info via ssh\n",
    "- Copy over the entire `~/.aws/` directory\n",
    "- Copy over github ssh keys\n",
    "- Login to the machine"
   ]
  },
  {
   "cell_type": "markdown",
   "metadata": {
    "slideshow": {
     "slide_type": "subslide"
    }
   },
   "source": [
    "``` shell\n",
    "#!/usr/bin/env bash\n",
    "\n",
    "if [[ $# -lt 2 ]] ; then\n",
    "    echo \"Not enough arguments supplied\"\n",
    "    echo \"Required Positional Arguments:\"\n",
    "    echo \"1. EC2 public DNS\"\n",
    "    echo \"2. EC2 private ssh key\"\n",
    "    exit 1\n",
    "fi\n",
    "\n",
    "# Copy credentials to EC2 instanace\n",
    "ec2_ip=$1  # first arg is IP address of instance\n",
    "keyname=$2\n",
    "aws_dir=~/.aws/\n",
    "ssh_credentials=~/.ssh/\n",
    "aws_ssh_key=$aws_dir$keyname\n",
    "\n",
    "# Copy files credentials to AWS\n",
    "scp -ri \"$aws_ssh_key\" $aws_dir ec2-user@$ec2_ip:~\n",
    "scp -ri \"$aws_ssh_key\" $ssh_credentials ec2-user@$ec2_ip:~\n",
    "scp -ri \"$aws_ssh_key\" ~/aws_setup/install_miniconda3_linux.sh ec2-user@$ec2_ip:~\n",
    "\n",
    "# log-in to the instance\n",
    "ssh -i \"$aws_ssh_key\" ec2-user@$ec2_ip\n",
    "```"
   ]
  },
  {
   "cell_type": "markdown",
   "metadata": {
    "slideshow": {
     "slide_type": "slide"
    }
   },
   "source": [
    "## AWS EC2 Setup Scripts: `login.sh`\n",
    "\n",
    "```shell\n",
    "#!/usr/bin/env bash\n",
    "\n",
    "if [[ $# -lt 2 ]] ; then\n",
    "    echo \"Not enough arguments supplied\"\n",
    "    echo \"Required Positional Arguments:\"\n",
    "    echo \"1. EC2 public DNS\"\n",
    "    echo \"2. EC2 private ssh key\"\n",
    "    exit 1\n",
    "fi\n",
    "\n",
    "ec2_ip=$1  \n",
    "keyname=$2\n",
    "aws_dir=~/.aws/\n",
    "aws_ssh_key=$aws_dir$keyname\n",
    "\n",
    "# log-in to the instance\n",
    "ssh -i \"$aws_ssh_key\" ec2-user@$ec2_ip\n",
    "```"
   ]
  },
  {
   "cell_type": "markdown",
   "metadata": {
    "slideshow": {
     "slide_type": "slide"
    }
   },
   "source": [
    "## Example\n",
    "- In the following example you will,\n",
    "    - Create an S3 bucket\n",
    "    - Download a series of CRJ/CRC images\n",
    "    - Compute magnitudes for all sources in each image\n",
    "        - Aperture sum is computed with 3 pixel aperture\n",
    "        - Background is computed using annulus with $R_{in}=14$, $R_{out}=17$\n",
    "        - Catalogs are stored in chip dependent files\n",
    "    - Generate a plot with both chips and the sources identified on each chip overlaid\n",
    "    - Upload the results to S3"
   ]
  },
  {
   "cell_type": "markdown",
   "metadata": {
    "slideshow": {
     "slide_type": "slide"
    }
   },
   "source": [
    "## Example\n",
    "Step 1) Use the `setup_ec2.sh` script to copy over your AWS access key info\n",
    " \n",
    "  - The custom AMI includes the following,\n",
    "      - Miniconda3 pre-installed\n",
    "      - The following Python packages\n",
    "           - `astropy`, `astroquery`, `numpy`, `matplotlib`, and `photutils`\n",
    "      - 3 python modules to be used in the example\n",
    "           - `download.py`\n",
    "           - `photometry.py`\n",
    "           - `transfer_output.py`\n",
    " \n",
    "Step 2) Download CRJ/CRC images from Proposal 14507 (External CTE Program)\n",
    "```console \n",
    "python download.py -proposal_id 14507\n",
    "```"
   ]
  },
  {
   "cell_type": "markdown",
   "metadata": {
    "slideshow": {
     "slide_type": "slide"
    }
   },
   "source": [
    "## Example\n",
    "\n",
    "Step 3) Run the photometry pipeline (will take about 8 minutes)\n",
    "```console\n",
    "python photometry.py\n",
    "```\n",
    "\n",
    "Step 4) Transfer the results to S3\n",
    "```console\n",
    "python transfer_output.py -bucket_name <YOUR_BUCKET> -folder_name <YOUR_FOLDER> \n",
    "```"
   ]
  },
  {
   "cell_type": "markdown",
   "metadata": {
    "slideshow": {
     "slide_type": "slide"
    }
   },
   "source": [
    "## Example\n",
    "Step 5) Download the results from S3 to your laptop\n",
    "```python\n",
    "import os\n",
    "import boto3\n",
    "try:\n",
    "    os.mkdir('./aws_results_day3')\n",
    "except FileExistsError:\n",
    "    print('Directory already exists')\n",
    "session = boto3.Session()\n",
    "client = session.resource('s3', region_name='us-east-1')\n",
    "bucket = client.Bucket('aws-acs-tutorial-day3')\n",
    "for f in list(bucket.objects.all()):\n",
    "    bucket.download_file(f.key, f'aws_results_day3/{os.path.basename(f.key)}')\n",
    "```"
   ]
  },
  {
   "cell_type": "markdown",
   "metadata": {
    "slideshow": {
     "slide_type": "slide"
    }
   },
   "source": [
    "## EC2 AMI\n",
    "- The base operating system for an EC2 instance\n",
    "- Each AMI has the following,\n",
    "    - A template for the root volume of the instance\n",
    "        - EBS-backed uses an EBS volume for root\n",
    "        - instance-store-backed uses an template stored in S3 \n",
    "        - <a href=\"https://docs.aws.amazon.com/AWSEC2/latest/UserGuide/RootDeviceStorage.html\">More info on EC2 root device volume</a>\n",
    "    - Launch permissions to control which AWS accounts can use the AMI to launch the instance\n",
    "        - Public or private\n",
    "    - A block device mapping to specify any additional volumes to attach to the instance when it is launched\n"
   ]
  },
  {
   "cell_type": "markdown",
   "metadata": {
    "slideshow": {
     "slide_type": "slide"
    }
   },
   "source": [
    "## Creating an EBS-backed EC2 AMI\n",
    "- Launch an EC2 instance\n",
    "- Install your favorite software\n",
    "- In the EC2 dashboard of AWS Management Console,\n",
    "    - Navigate to the running instances\n",
    "    - Select your instance\n",
    "    - Actions > Image > Create Image"
   ]
  }
 ],
 "metadata": {
  "kernelspec": {
   "display_name": "Python 3",
   "language": "python",
   "name": "python3"
  },
  "language_info": {
   "codemirror_mode": {
    "name": "ipython",
    "version": 3
   },
   "file_extension": ".py",
   "mimetype": "text/x-python",
   "name": "python",
   "nbconvert_exporter": "python",
   "pygments_lexer": "ipython3",
   "version": "3.6.10"
  }
 },
 "nbformat": 4,
 "nbformat_minor": 4
}
