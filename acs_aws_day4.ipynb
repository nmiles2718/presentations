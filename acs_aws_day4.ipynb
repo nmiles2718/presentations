{
 "cells": [
  {
   "cell_type": "markdown",
   "metadata": {
    "slideshow": {
     "slide_type": "slide"
    }
   },
   "source": [
    "# ACS AWS Training: Day 4\n",
    "### Nathan Miles\n",
    "06/11/2020"
   ]
  },
  {
   "cell_type": "markdown",
   "metadata": {
    "slideshow": {
     "slide_type": "slide"
    }
   },
   "source": [
    "## Outline\n",
    "- Review of last time\n",
    "- Lambda\n",
    "    - Recap\n",
    "    - Anatomy of a Lambda Function\n",
    "- Example\n",
    "    - Create a lambda function using the console editor\n",
    "    - Testing your lambda function in the console\n",
    "    - Invoking the lambda function from your laptop via `boto3`"
   ]
  },
  {
   "cell_type": "markdown",
   "metadata": {
    "slideshow": {
     "slide_type": "slide"
    }
   },
   "source": [
    "## Day 3 Review\n",
    "- EC2 Launch Templates\n",
    "    - Facilitate the repeated deployment of the same instance type\n",
    "- AWS setup scripts\n",
    "    - Shell scripts designed to minimize setup overhead when working with EC2 instances\n",
    "- EC2 AMI\n",
    "    - Obviates the need to install software \n",
    " \n"
   ]
  },
  {
   "cell_type": "markdown",
   "metadata": {
    "slideshow": {
     "slide_type": "slide"
    }
   },
   "source": [
    "## Review of Lambda\n",
    "- \"Serverless\" web service\n",
    "    - No need to specify anything about the physical infrastructure\n",
    "    - Only specify the code you want to run\n",
    "- The **runtime** of a Lambda function defines the execution environment for your code \n",
    "    - Python versions 2.7, 3.6, 3.7, 3.8\n",
    "- To execute your code you **invoke** the Lambda function \n",
    "    - When invoked, AWS will assembles to computational resources required for your code to run"
   ]
  },
  {
   "cell_type": "markdown",
   "metadata": {
    "slideshow": {
     "slide_type": "slide"
    }
   },
   "source": [
    "## Review of Lambda: Constraints\n",
    "- Lambda is **not** meant to be used for everything\n",
    "    - Suited for isolated tasks that require a short amount of time to run\n",
    "        - Extracting photometry from a single image\n",
    "        - Applying a correction to input data\n",
    "            - ACS Photometric CTE REST API\n",
    "        - Serving up filter throughput curves (requires data to exist in the cloud)\n",
    "        \n",
    "- There are constraints on the types of taks Lambda can handle\n",
    "    - Memory allcation: Max of 3 GB\n",
    "    - Execution Time: Max of 900 seconds\n",
    "    - Payload: Max of 6 MB for synchronous, 256 KB for asynchronous\n",
    "    - Deployment package:\n",
    "        - 50 MB to 250 MB\n",
    "\n",
    "\n",
    "\n"
   ]
  },
  {
   "cell_type": "markdown",
   "metadata": {
    "slideshow": {
     "slide_type": "slide"
    }
   },
   "source": [
    "## Anatomy of a Lambda Function\n",
    "- The code is just a python module (e.g. `photometry.py`)\n",
    "- It must have a function, known as the handler, that accepts the following arguments,\n",
    "    - `event`\n",
    "    - `context`\n",
    "    \n",
    "```python\n",
    "    def handler_name(event, context):\n",
    "                    .\n",
    "                    .\n",
    "```\n",
    "- The name can be whatever you want, just make sure to indicate what it is when you create it\n",
    "- Values returned will be serialized into `JSON` format"
   ]
  },
  {
   "cell_type": "markdown",
   "metadata": {
    "slideshow": {
     "slide_type": "slide"
    }
   },
   "source": [
    "## Anatomy of a Lambda Function Cont.\n",
    "- `event`\n",
    "    - This object contains any input data pass to the handler\n",
    "    - It is typically a Python `dict`, but it can be any of the following Python `dtypes`,\n",
    "        - `list`, `str`, `int`, `float`, `NoneType`\n",
    "    - This parameter must also be serialized into `JSON` format prior to being submitted to the lambda function\n",
    "- `context`\n",
    "    - This object contains methods and attributes that provide access to information about the invocation, function, and execution environment\n",
    "    - Full details <a href=\"https://docs.aws.amazon.com/lambda/latest/dg/python-context.html\">here</a>"
   ]
  },
  {
   "cell_type": "markdown",
   "metadata": {
    "slideshow": {
     "slide_type": "slide"
    }
   },
   "source": [
    "## Example\n",
    "- We are going to create a Lambda function that accepts a Python `dict`\n",
    "```python\n",
    "            event = {\n",
    "                'first_name': 'Nathan',\n",
    "                'last_name': 'Miles'\n",
    "            }\n",
    "```\n",
    "\n",
    "- The lambda function will use this input to generate a message and return it\n",
    "- We'll learn how to,\n",
    "    - test the lambda function from the console\n",
    "    - invoke the lambda function using `boto3`"
   ]
  },
  {
   "cell_type": "markdown",
   "metadata": {
    "slideshow": {
     "slide_type": "slide"
    }
   },
   "source": [
    "## Example: Create the Lambda Function\n",
    "- Login to the AWS Management Console\n",
    "- Navigate to the AWS Lambda console\n",
    "    - On the toolbar to the left, select Functions\n",
    "    - Click Create Function\n",
    "    - Select \"Author from scratch\"\n",
    "- Function Configuration    \n",
    "    - Function name: whatever you want\n",
    "    - Runtime: `Python 3.6`\n",
    "    - Chose or create an execution role:\n",
    "        - Select \"Use an Existing Role\" --> `acs-aws-lambda`\n",
    "- This will create a basic lambda function called `lambda_function.py`"
   ]
  },
  {
   "cell_type": "markdown",
   "metadata": {
    "slideshow": {
     "slide_type": "slide"
    }
   },
   "source": [
    "## Example: Create the Lambda Function\n",
    "- Navigate to the code editor for your Lambda function\n",
    "- Copy and paste the code from the slide below\n",
    "- When you're done, click save (upper right corner)"
   ]
  },
  {
   "cell_type": "markdown",
   "metadata": {
    "slideshow": {
     "slide_type": "subslide"
    }
   },
   "source": [
    "```python\n",
    "import json\n",
    "import logging\n",
    "\n",
    "logging.basicConfig(format='%(levelname)-4s '\n",
    "                           '[%(module)s.%(funcName)s:%(lineno)d]'\n",
    "                           ' %(message)s',\n",
    "                    )\n",
    "LOG = logging.getLogger('Lambda')\n",
    "LOG.setLevel(logging.INFO)\n",
    "\n",
    "def func(event, context):\n",
    "    message = 'Hello {} {}!'.format(event['first_name'], \n",
    "                                    event['last_name']) \n",
    "    return {\n",
    "        'statusCode': 200,\n",
    "        'body': json.dumps(message)\n",
    "    }\n",
    "```"
   ]
  },
  {
   "cell_type": "markdown",
   "metadata": {
    "slideshow": {
     "slide_type": "slide"
    }
   },
   "source": [
    "## Example: Testing the Lambda Function\n",
    "- Let's configure a \"test event\" to test our lambda function from console\n",
    "- We are going to use the \"hello-word\" event template and update the following values\n",
    "    - Change `key1` to `first_name`\n",
    "    - Change `key2` to `last_name`\n",
    "    - Delete `key3`\n",
    "\n",
    "<img src=\"./lambda_test.png\" width=\"75%\" height=\"75%\"/>"
   ]
  },
  {
   "cell_type": "markdown",
   "metadata": {
    "slideshow": {
     "slide_type": "slide"
    }
   },
   "source": [
    "## Example: Invoking the Lambda with `boto3`\n",
    "- Open an `ipython` session in your terminal\n",
    "- Copy and paste the code in the slide below into your terminal"
   ]
  },
  {
   "cell_type": "markdown",
   "metadata": {
    "slideshow": {
     "slide_type": "slide"
    }
   },
   "source": [
    "```python\n",
    "import boto3\n",
    "import json\n",
    "lambda_name = 'Name of your lambda function' \n",
    "session = boto3.Session(profile_name='ndmiles_admin')\n",
    "client = session.client('lambda', region_name='us-east-1')\n",
    "event = {\n",
    "    'first_name': 'Your first name',\n",
    "    'last_name': 'Your last name'\n",
    "}\n",
    "Payload = json.dumps(event)\n",
    "lambda_inputs = {\n",
    "    'FunctionName': lambda_name,\n",
    "    'InvocationType': 'RequestResponse',\n",
    "    'LogType': 'Tail',\n",
    "    'Payload': Payload\n",
    "}\n",
    "response = client.invoke(**lambda_inputs)\n",
    "result = json.loads(response['Payload'].read())\n",
    "print(result['body'])\n",
    "```"
   ]
  },
  {
   "cell_type": "code",
   "execution_count": null,
   "metadata": {},
   "outputs": [],
   "source": []
  }
 ],
 "metadata": {
  "kernelspec": {
   "display_name": "Python 3",
   "language": "python",
   "name": "python3"
  },
  "language_info": {
   "codemirror_mode": {
    "name": "ipython",
    "version": 3
   },
   "file_extension": ".py",
   "mimetype": "text/x-python",
   "name": "python",
   "nbconvert_exporter": "python",
   "pygments_lexer": "ipython3",
   "version": "3.7.6"
  }
 },
 "nbformat": 4,
 "nbformat_minor": 4
}
